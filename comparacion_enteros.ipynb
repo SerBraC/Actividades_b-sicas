{
 "cells": [
  {
   "cell_type": "code",
   "execution_count": 77,
   "id": "frequent-plain",
   "metadata": {},
   "outputs": [
    {
     "data": {
      "application/vnd.jupyter.widget-view+json": {
       "model_id": "b0e9bac2cb3145b789fe23745b141799",
       "version_major": 2,
       "version_minor": 0
      },
      "text/plain": [
       "VBox(children=(HTML(value='<b>Intrucciones</b> <br> -Presiona <b>Nuevo Caso</b> para partir. \\n', placeholder=…"
      ]
     },
     "metadata": {},
     "output_type": "display_data"
    },
    {
     "data": {
      "application/vnd.jupyter.widget-view+json": {
       "model_id": "c01284ace0fb4a2c99d7d93db628c4bb",
       "version_major": 2,
       "version_minor": 0
      },
      "text/plain": [
       "Box(children=(Button(button_style='info', description='Comprobar ', icon='check', style=ButtonStyle(), tooltip…"
      ]
     },
     "metadata": {},
     "output_type": "display_data"
    }
   ],
   "source": [
    "%matplotlib widget\n",
    "import numpy as np\n",
    "import ipywidgets as widgets\n",
    "from IPython.display import display, clear_output,Math\n",
    "\n",
    "\n",
    "def pnum():\n",
    "    z1 = int(np.random.uniform(-100,100))\n",
    "    z2 = int(np.random.uniform(-100,100))\n",
    "\n",
    "    return z1,z2\n",
    "    \n",
    "dr = widgets.Dropdown(\n",
    "    options=['>', '<', '='],\n",
    "    value='=',\n",
    "    description='',\n",
    ")\n",
    "\n",
    "b = widgets.Button(\n",
    "    description='Nuevo caso',\n",
    "    disabled=False,\n",
    "    button_style='info',\n",
    "    tooltip='Click me',\n",
    "    icon='check'\n",
    ")\n",
    "\n",
    "check = widgets.Button(\n",
    "    description='Comprobar ',\n",
    "    disabled=False,\n",
    "    button_style='info',\n",
    "    tooltip='Click me',\n",
    "    icon='check'\n",
    ")\n",
    "\n",
    "inst0 = widgets.HTML(\n",
    "    value=\"<b>Intrucciones</b> <br> -Presiona <b>Nuevo Caso</b> para partir. \\n\",\n",
    "    placeholder='',\n",
    "    description='',\n",
    ")\n",
    "\n",
    "inst2 = widgets.HTML(\n",
    "    value=\"-Selecciona entre > , < o = en la casilla que aparece y luego presiona comprobar. \\n'\",\n",
    "    placeholder='',\n",
    "    description='',\n",
    ")\n",
    "\n",
    "output = widgets.Output()\n",
    "display(widgets.VBox([inst0,inst2,b,output]))\n",
    "\n",
    "display(widgets.Box([check]))\n",
    "\n",
    "def on_button_clicked(b):\n",
    "    with output:\n",
    "        clear_output()\n",
    "        n1,n2 = pnum()\n",
    "        num1 = widgets.Label(str(n1),layout=widgets.Layout(display=\"flex\"))\n",
    "        num2 = widgets.Label(str(n2),layout=widgets.Layout(display=\"flex\"))\n",
    "    \n",
    "    \n",
    "        display(widgets.HBox([num1,dr,num2]))\n",
    "\n",
    "        def get_n1():\n",
    "            return n1\n",
    "        def get_n2():\n",
    "            return n2\n",
    "    \n",
    "        on_button_clicked.n1 = get_n1\n",
    "        on_button_clicked.n2 = get_n2\n",
    "        \n",
    "def on_button_clicked_2(check):\n",
    "    with output:\n",
    "        nn1 = on_button_clicked.n1()\n",
    "        nn2 = on_button_clicked.n2()\n",
    "        \n",
    "        lval = dr.value\n",
    "        if lval == '=':\n",
    "            if(nn1 == nn2):\n",
    "                print(\"\\n MUY BIEN! TU RESULTADO ES \"+\"\\033[1m\"+\"CORRECTO.\"+\"\\033[0m\"+\"\")\n",
    "            else:\n",
    "                print(\"\\n Tu resultado es \"+\"\\033[1m\"+\"Incorrecto.\"+\"\\033[0m\"+\" Inténtalo nuevamente. \\n\")\n",
    "        \n",
    "        elif lval == '<':\n",
    "            if(nn1 < nn2):\n",
    "                print(\"\\n MUY BIEN! TU RESULTADO ES \"+\"\\033[1m\"+\"CORRECTO.\"+\"\\033[0m\"+\"\")\n",
    "            else:\n",
    "                print(\"Tu resultado es \"+\"\\033[1m\"+\"Incorrecto.\"+\"\\033[0m\"+\" Inténtalo nuevamente. \\n\")\n",
    "        \n",
    "        elif lval == '>':\n",
    "            if(nn1 > nn2):\n",
    "                print(\"MUY BIEN! TU RESULTADO ES \"+\"\\033[1m\"+\"CORRECTO.\"+\"\\033[0m\"+\"\")\n",
    "            else:\n",
    "                print(\"\\n Tu resultado es \"+\"\\033[1m\"+\"Incorrecto.\"+\"\\033[0m\"+\" Inténtalo nuevamente. \\n\")\n",
    "        \n",
    "        \n",
    "        \n",
    "#items = [widgets.Label(str(i)) for i in range(4)]\n",
    "#widgets.Box(items)\n",
    "\n",
    "\n",
    "b.on_click(on_button_clicked)\n",
    "check.on_click(on_button_clicked_2)"
   ]
  },
  {
   "cell_type": "code",
   "execution_count": null,
   "id": "portable-choir",
   "metadata": {},
   "outputs": [],
   "source": []
  },
  {
   "cell_type": "code",
   "execution_count": null,
   "id": "close-therapy",
   "metadata": {},
   "outputs": [],
   "source": []
  }
 ],
 "metadata": {
  "kernelspec": {
   "display_name": "Python 3",
   "language": "python",
   "name": "python3"
  },
  "language_info": {
   "codemirror_mode": {
    "name": "ipython",
    "version": 3
   },
   "file_extension": ".py",
   "mimetype": "text/x-python",
   "name": "python",
   "nbconvert_exporter": "python",
   "pygments_lexer": "ipython3",
   "version": "3.8.5"
  }
 },
 "nbformat": 4,
 "nbformat_minor": 5
}
